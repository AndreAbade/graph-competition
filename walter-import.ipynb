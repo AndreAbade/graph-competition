{
 "cells": [
  {
   "cell_type": "code",
   "execution_count": 2,
   "metadata": {
    "collapsed": true
   },
   "outputs": [],
   "source": [
    "import numpy as np"
   ]
  },
  {
   "cell_type": "code",
   "execution_count": 35,
   "metadata": {
    "collapsed": false
   },
   "outputs": [],
   "source": [
    "count_new = 0\n",
    "count_old = 0\n",
    "count_new_others = 0\n",
    "output = open('combined_results.csv', 'w')\n",
    "\n",
    "for line in open('results.csv'):\n",
    "    if line.startswith('model1') or line.startswith('model2') \\\n",
    "        or line.startswith('model3') or line.startswith('model4') \\\n",
    "        or line.startswith('NetID'):\n",
    "            if not line.endswith(\"\\n\"):\n",
    "                line = line + \"\\n\"\n",
    "            output.write(line)\n",
    "            if line.endswith(\"\\n\"):\n",
    "                count_new_others += 1 \n",
    "\n",
    "\n",
    "    if  line.startswith('real1') or line.startswith('real2') \\\n",
    "        or line.startswith('real3'):\n",
    "            if not line.endswith(\"\\n\"):\n",
    "                line = line + \"\\n\"\n",
    "            if line.endswith(\"\\n\"):\n",
    "                count_new += 1 \n",
    "\n",
    "for line in open('results-full-v2.csv'):\n",
    "    if  line.startswith('real1') or line.startswith('real2') \\\n",
    "        or line.startswith('real3'):\n",
    "            if not line.endswith(\"\\n\"):\n",
    "                line = line + \"\\n\"\n",
    "            count_old+=1\n",
    "            output.write(line)\n",
    "\n",
    "for line in open('results.csv'):\n",
    "    if line.startswith('real4'):\n",
    "        if not line.endswith(\"\\n\"):\n",
    "            line = line + \"\\n\"\n",
    "        output.write(line)\n",
    "        if line.endswith(\"\\n\"):\n",
    "            count_new_others += 1 \n",
    "        \n",
    "output.close()\n"
   ]
  },
  {
   "cell_type": "code",
   "execution_count": 36,
   "metadata": {
    "collapsed": false
   },
   "outputs": [
    {
     "data": {
      "text/plain": [
       "(8158, 8158, 18119)"
      ]
     },
     "execution_count": 36,
     "metadata": {},
     "output_type": "execute_result"
    }
   ],
   "source": [
    "count_new, count_old, count_new_others + count_new"
   ]
  },
  {
   "cell_type": "code",
   "execution_count": null,
   "metadata": {
    "collapsed": true
   },
   "outputs": [],
   "source": [
    "\n",
    "with open('combined_results.csv', 'w') as output:\n",
    "    for line in open('results-full-v4.csv'):\n",
    "        if line.startswith('NetID') or line.startswith('real1') \\\n",
    "            or line.startswith('real2') or line.startswith('real3'):\n",
    "                output.write(line)"
   ]
  },
  {
   "cell_type": "code",
   "execution_count": 17,
   "metadata": {
    "collapsed": false
   },
   "outputs": [
    {
     "name": "stdout",
     "output_type": "stream",
     "text": [
      "[0, 1]\n",
      "[0, 2]\n",
      "[0, 466]\n",
      "[1, 6]\n",
      "[1, 382]\n",
      "[2, 3]\n",
      "[3, 4]\n",
      "[3, 416]\n",
      "[3, 419]\n",
      "[4, 5]\n"
     ]
    }
   ],
   "source": [
    "i = 0\n",
    "for line in open('networks/real2.csv'):\n",
    "    if i<10:\n",
    "        print([int(s) for s in (line.replace('\"', '').strip().split(','))])\n",
    "        i+=1"
   ]
  },
  {
   "cell_type": "code",
   "execution_count": null,
   "metadata": {
    "collapsed": true
   },
   "outputs": [],
   "source": [
    "# for ftype in ['model', 'real']:\n",
    "#     for i in range(1,5):\n",
    "#         file_name = ftype + str(i)\n",
    "\n",
    "# file_name = 'real2'\n",
    "# mt = np.genfromtxt('networks/' + file_name + '.csv',delimiter=',').astype(np.int32)\n",
    "# all_nodes = set(mt.flatten())\n"
   ]
  },
  {
   "cell_type": "code",
   "execution_count": 3,
   "metadata": {
    "collapsed": false
   },
   "outputs": [
    {
     "name": "stdout",
     "output_type": "stream",
     "text": [
      "real1: 1694616\n",
      "real2: 1957027\n",
      "real3: 426485\n",
      "real4: 855802\n",
      "model1: 1039722\n",
      "model2: 1083568\n",
      "model3: 997663\n",
      "model4: 1001733\n"
     ]
    }
   ],
   "source": [
    "for ftype in ['real', 'model']:\n",
    "    for ii in range(1,5):\n",
    "        file_name = ftype + str(ii)\n",
    "        mt = np.genfromtxt('networks/' + file_name + '.csv',delimiter=',').astype(np.int32)\n",
    "        all_nodes = set(mt.flatten())\n",
    "        print(file_name + ': ' + str(len(all_nodes)))\n"
   ]
  },
  {
   "cell_type": "code",
   "execution_count": null,
   "metadata": {
    "collapsed": true
   },
   "outputs": [],
   "source": []
  }
 ],
 "metadata": {
  "anaconda-cloud": {},
  "kernelspec": {
   "display_name": "Python [conda env:udacity]",
   "language": "python",
   "name": "conda-env-udacity-py"
  },
  "language_info": {
   "codemirror_mode": {
    "name": "ipython",
    "version": 3
   },
   "file_extension": ".py",
   "mimetype": "text/x-python",
   "name": "python",
   "nbconvert_exporter": "python",
   "pygments_lexer": "ipython3",
   "version": "3.5.2"
  }
 },
 "nbformat": 4,
 "nbformat_minor": 1
}
