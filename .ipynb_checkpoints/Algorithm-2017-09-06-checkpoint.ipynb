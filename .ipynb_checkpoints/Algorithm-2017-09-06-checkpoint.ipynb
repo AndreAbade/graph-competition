{
 "cells": [
  {
   "cell_type": "code",
   "execution_count": null,
   "metadata": {
    "collapsed": false
   },
   "outputs": [],
   "source": [
    "import pandas as pd\n",
    "import numpy as np\n",
    "from pprint import pprint\n",
    "import math\n",
    "from utils import import_net, export_net\n",
    "from time import time"
   ]
  },
  {
   "cell_type": "code",
   "execution_count": null,
   "metadata": {
    "collapsed": true
   },
   "outputs": [],
   "source": [
    "def sort_nodes(t):\n",
    "    v = t[1]\n",
    "    return -v[0], -v[1]\n",
    "\n",
    "def BFS(graph, start):\n",
    "    \"\"\" André, please clarify:\n",
    "\n",
    "        this code is adding +1 to the second counter\n",
    "        if the node connected by an outgoing edge\n",
    "        also has an outgoing edge going back to the parent node\n",
    "        \n",
    "        is this what we were looking for?\n",
    "        my understanding is that we wanted to count the number of incoming nodes,\n",
    "        regardless of its origin\n",
    "    \"\"\"\n",
    "    \n",
    "    queue = list()\n",
    "    output = dict()\n",
    "    visited = set()\n",
    "    queue.append(start)\n",
    "    while queue:\n",
    "        node = queue.pop(0)\n",
    "        visited.add(node)\n",
    "        if node in output:\n",
    "            output[node][0] = len(graph[node])\n",
    "        else:\n",
    "            output[node] = [len(graph[node]), 0]\n",
    "        for adjacent in graph[node]:\n",
    "            # check logic of next two lines\n",
    "            if adjacent in output:\n",
    "                    output[adjacent][1] += 1;\n",
    "            else:\n",
    "                output[adjacent] = [0, 1];\n",
    "            if adjacent not in visited:\n",
    "                visited.add(adjacent)\n",
    "                if adjacent in graph:\n",
    "                    queue.append(adjacent)\n",
    "                    \n",
    "    return sorted(output.items(), key=sort_nodes), visited\n"
   ]
  },
  {
   "cell_type": "code",
   "execution_count": null,
   "metadata": {
    "collapsed": false
   },
   "outputs": [],
   "source": [
    "def sort_forests(f):\n",
    "    return -len(f)\n",
    "\n",
    "def get_full_bfs(network):\n",
    "    \"\"\" Run BFS for the entire network \"\"\"\n",
    "    \n",
    "    visited_nodes = set()\n",
    "    output = list()\n",
    "    for node in all_nodes:\n",
    "        if node not in visited_nodes:\n",
    "            forest, visited = BFS(network, node)\n",
    "            output.append(forest)\n",
    "            visited_nodes.update(visited)\n",
    "            \n",
    "    return output\n",
    "\n",
    "def score(full_bfs, num_nodes):\n",
    "    \"\"\" Normalize and calculate score for full bfs\"\"\"\n",
    "    \n",
    "    output = {}\n",
    "    for forest in full_bfs:\n",
    "        forest_size = len(forest)\n",
    "        for node in forest:\n",
    "            node_id = node[0]\n",
    "            num_incoming_nodes = node[1][0]\n",
    "            num_outgoing_nodes = node[1][1]\n",
    "            score = (num_incoming_nodes+num_outgoing_nodes) * forest_size / num_nodes / 10e6\n",
    "            if node_id not in output:\n",
    "                output[node_id] = score\n",
    "            else:\n",
    "                output[node_id] += score\n",
    "            forest_size -= 1\n",
    "    \n",
    "    return sorted(output.items(), key=lambda x:-x[1])\n",
    " \n"
   ]
  },
  {
   "cell_type": "code",
   "execution_count": null,
   "metadata": {
    "collapsed": false
   },
   "outputs": [],
   "source": [
    "### ALTERNATIVE: RUN THIS TO TEST\n",
    "network = { 'A': ['B', 'C'],\n",
    "            'B': ['A', 'C'],\n",
    "            'C': ['B', 'D', 'E' ,'F'],\n",
    "            'D': ['E'],\n",
    "            'E': ['C'],\n",
    "            'F': ['B', 'D'],\n",
    "            'G': ['H', 'I','C'],\n",
    "            'H': ['G'],\n",
    "            'I': ['G', 'J']}\n",
    "\n",
    "all_nodes = ['A', 'B', 'C', 'D', 'E', \n",
    "             'F', 'G', 'H', 'I', 'J']\n",
    "\n",
    "# full_bfs = get_full_bfs(network)\n",
    "# pprint(full_bfs)\n",
    "# results = score(full_bfs, len(all_nodes))\n",
    "# pprint(results)"
   ]
  },
  {
   "cell_type": "code",
   "execution_count": null,
   "metadata": {
    "collapsed": false
   },
   "outputs": [],
   "source": [
    "### ON REAL DATA\n",
    "first = True\n",
    "output = []\n",
    "for ftype in ['real','model']:\n",
    "    for i in range(1,5):\n",
    "        t0 = time()\n",
    "        network_name = ftype+str(i)\n",
    "        network, all_nodes = import_net(network_name)\n",
    "        full_bfs = get_full_bfs(network)\n",
    "        results = score(full_bfs, len(all_nodes))\n",
    "        output.append((network_name, results))\n",
    "        \n",
    "        print('Nodes in results: ' + str(len(results)))        \n",
    "        print(\"Run-time (in minutes): \" + str(int((time()-t0)/60)))\n",
    "        \n",
    "        if first:\n",
    "            export_net(results, network_name, 'results-full-v2.csv', first=True)\n",
    "            first = False\n",
    "        else:\n",
    "            export_net(results, network_name, 'results-full-v2.csv', first=False)\n",
    "            "
   ]
  },
  {
   "cell_type": "code",
   "execution_count": null,
   "metadata": {
    "collapsed": true
   },
   "outputs": [],
   "source": [
    "\n"
   ]
  },
  {
   "cell_type": "code",
   "execution_count": null,
   "metadata": {
    "collapsed": true
   },
   "outputs": [],
   "source": []
  }
 ],
 "metadata": {
  "anaconda-cloud": {},
  "kernelspec": {
   "display_name": "Python [conda env:udacity]",
   "language": "python",
   "name": "conda-env-udacity-py"
  },
  "language_info": {
   "codemirror_mode": {
    "name": "ipython",
    "version": 3
   },
   "file_extension": ".py",
   "mimetype": "text/x-python",
   "name": "python",
   "nbconvert_exporter": "python",
   "pygments_lexer": "ipython3",
   "version": "3.5.2"
  }
 },
 "nbformat": 4,
 "nbformat_minor": 1
}
