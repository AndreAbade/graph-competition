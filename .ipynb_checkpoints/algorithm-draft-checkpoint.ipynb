{
 "cells": [
  {
   "cell_type": "code",
   "execution_count": 1,
   "metadata": {
    "collapsed": true
   },
   "outputs": [],
   "source": [
    "import numpy as np\n",
    "import pandas as pd"
   ]
  },
  {
   "cell_type": "code",
   "execution_count": null,
   "metadata": {
    "collapsed": true
   },
   "outputs": [],
   "source": []
  },
  {
   "cell_type": "code",
   "execution_count": null,
   "metadata": {
    "collapsed": true
   },
   "outputs": [],
   "source": [
    "BFS (G, s)                   \n",
    "//Where G is the graph and s is the source node\n",
    "      let Q be queue.\n",
    "      Q.enqueue( s ) //Inserting s in queue until all its neighbour vertices are marked.\n",
    "\n",
    "      mark s as visited.\n",
    "      while ( Q is not empty)\n",
    "           //Removing that vertex from queue,whose neighbour will be visited now\n",
    "           v  =  Q.dequeue( )\n",
    "\n",
    "          //processing all the neighbours of v  \n",
    "          for all neighbours w of v in Graph G\n",
    "               if w is not visited \n",
    "                        Q.enqueue( w )             //Stores w in Q to further visit its neighbour\n",
    "                        mark w as visited."
   ]
  },
  {
   "cell_type": "code",
   "execution_count": 30,
   "metadata": {
    "collapsed": true
   },
   "outputs": [],
   "source": [
    "graph = { 'A': ['B', 'C'],\n",
    "          'B': ['A', 'C'],\n",
    "          'C': ['B', 'D', 'E' ,'F'],\n",
    "          'D': ['E'],\n",
    "          'E': ['C'],\n",
    "          'F': ['B', 'D'],\n",
    "          'G': ['H'],\n",
    "          'H': ['G']}"
   ]
  },
  {
   "cell_type": "code",
   "execution_count": 16,
   "metadata": {
    "collapsed": true
   },
   "outputs": [],
   "source": [
    "def BFS(graph, start):\n",
    "    queue = []\n",
    "    visited = set()\n",
    "    queue.append(start)\n",
    "    while queue:\n",
    "        node = queue.pop(0)\n",
    "        visited.add(node)\n",
    "        for adjacent in graph[node]:\n",
    "            if adjacent not in visited:\n",
    "                queue.append(adjacent)\n",
    "                visited.add(adjacent)\n",
    "                \n",
    "    print(visited)\n",
    "    "
   ]
  },
  {
   "cell_type": "code",
   "execution_count": 81,
   "metadata": {
    "collapsed": false
   },
   "outputs": [],
   "source": [
    "from operator import itemgetter, attrgetter\n",
    "def BFS(graph, start):\n",
    "    queue = list()\n",
    "    most = dict()\n",
    "    visited = set()\n",
    "    queue.append(start)\n",
    "    while queue:\n",
    "        node = queue.pop(0)\n",
    "        visited.add(node)\n",
    "        if node in most:\n",
    "            most[node][0] = len(graph[node])\n",
    "        else:\n",
    "            most[node] = [len(graph[node]), 0];\n",
    "        for adjacent in graph[node]:\n",
    "            #LOGICA DO QUE A GENTE QUER\n",
    "            if adjacent in most:\n",
    "                    most[adjacent][1] += 1;\n",
    "            else:\n",
    "                most[adjacent] = [0, 1];\n",
    "            if adjacent not in visited:\n",
    "                #RESTO DA BFS\n",
    "                queue.append(adjacent)\n",
    "                visited.add(adjacent)\n",
    "    print(most)\n",
    "    #SORT MOST EM [0] e depois em [1]\n",
    "    print(sorted(most.values(), key=itemgetter(0))[::-1]);"
   ]
  },
  {
   "cell_type": "code",
   "execution_count": 82,
   "metadata": {
    "collapsed": false,
    "scrolled": true
   },
   "outputs": [
    {
     "name": "stdout",
     "output_type": "stream",
     "text": [
      "{'A', 'C', 'B', 'D', 'F', 'E'}\n",
      "{'F': [2, 1], 'A': [2, 1], 'C': [4, 3], 'B': [2, 3], 'E': [1, 2], 'D': [1, 2]}\n",
      "[[4, 3], [2, 3], [2, 1], [2, 1], [1, 2], [1, 2]]\n"
     ]
    }
   ],
   "source": [
    "BFS(graph, 'A')"
   ]
  },
  {
   "cell_type": "code",
   "execution_count": null,
   "metadata": {
    "collapsed": true
   },
   "outputs": [],
   "source": [
    "graph = { 'A': ['B', 'C'],\n",
    "          'B': ['A', 'C'],\n",
    "          'C': ['B', 'D', 'E' ,'F'],\n",
    "          'D': ['E'],\n",
    "          'E': ['C'],\n",
    "          'F': ['B', 'D'] }\n",
    "\n",
    "def BFS(graph, start, end):\n",
    "    parent = {}\n",
    "    queue = []\n",
    "    queue.append(start)\n",
    "    while queue:\n",
    "        node = queue.pop(0)\n",
    "        if node == end:\n",
    "            return backtrace(parent, start, end)\n",
    "        for adjacent in graph.get(node, []):\n",
    "            parent[adjacent] = node \n",
    "            queue.append(adjacent)\n",
    "\n",
    "def backtrace(parent, start, end):\n",
    "    path = [end]\n",
    "    while path[-1] != start:\n",
    "        path.append(parent[path[-1]])\n",
    "    path.reverse()\n",
    "    return path\n",
    "\n",
    "print (BFS(graph, 'A', 'E'))"
   ]
  },
  {
   "cell_type": "code",
   "execution_count": null,
   "metadata": {
    "collapsed": true
   },
   "outputs": [],
   "source": [
    "BFS(G,s)\n",
    "1.  for each vertex u ∈ G.V - {s}\n",
    "2.     u.color == WHITE\n",
    "3.     u.d = INF\n",
    "4.     u.pi = NIL\n",
    "5.  s.color = GRAY\n",
    "6.  s.d = 0\n",
    "7.  s.pi = NIL\n",
    "8.  Q = ∅\n",
    "9.  ENQUEUE(Q,s)\n",
    "10. while Q ≠ ∅\n",
    "11.    u = DEQUEUE(Q)\n",
    "12.    for each v ∈ G.Adj[u]\n",
    "13.       if v.color == WHITE\n",
    "14.          v.color = GRAY\n",
    "15.          v.d = u.d + 1\n",
    "16.          v.pi = u\n",
    "17.          ENQUEUE(Q,v)\n",
    "18.    u.color = BLACK"
   ]
  },
  {
   "cell_type": "code",
   "execution_count": null,
   "metadata": {
    "collapsed": true
   },
   "outputs": [],
   "source": [
    "# G que tem a propriedade V, vértices\n",
    "def BFS(G, s):\n",
    "    for each vertex in G[V] - [s]:\n",
    "        "
   ]
  },
  {
   "cell_type": "code",
   "execution_count": null,
   "metadata": {
    "collapsed": true
   },
   "outputs": [],
   "source": [
    "def bfs(graph, root):\n",
    "    S = set()\n",
    "    Q = list()\n",
    "    \n",
    "    S.add(root)\n",
    "    Q.append(root)\n",
    "    \n",
    "    while len(Q) is not 0:\n",
    "        current = Q.pop()\n",
    "        if current "
   ]
  }
 ],
 "metadata": {
  "anaconda-cloud": {},
  "kernelspec": {
   "display_name": "Python [conda env:udacity]",
   "language": "python",
   "name": "conda-env-udacity-py"
  },
  "language_info": {
   "codemirror_mode": {
    "name": "ipython",
    "version": 3
   },
   "file_extension": ".py",
   "mimetype": "text/x-python",
   "name": "python",
   "nbconvert_exporter": "python",
   "pygments_lexer": "ipython3",
   "version": "3.5.2"
  }
 },
 "nbformat": 4,
 "nbformat_minor": 1
}
