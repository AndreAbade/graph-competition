{
 "cells": [
  {
   "cell_type": "code",
   "execution_count": 1,
   "metadata": {
    "collapsed": true
   },
   "outputs": [],
   "source": [
    "import numpy as np\n",
    "import pandas as pd"
   ]
  },
  {
   "cell_type": "code",
   "execution_count": 3,
   "metadata": {
    "collapsed": false
   },
   "outputs": [],
   "source": [
    "# from operator import itemgetter, attrgetter\n",
    "def BFS(graph, start):\n",
    "    queue = list()\n",
    "    most = dict()\n",
    "    visited = set()\n",
    "    queue.append(start)\n",
    "    while queue:\n",
    "        node = queue.pop(0)\n",
    "        visited.add(node)\n",
    "        if node in most:\n",
    "            most[node][0] = len(graph[node])\n",
    "        else:\n",
    "            most[node] = [len(graph[node]), 0];\n",
    "        for adjacent in graph[node]:\n",
    "            #LOGICA DO QUE A GENTE QUER\n",
    "            if adjacent in most:\n",
    "                    most[adjacent][1] += 1;\n",
    "            else:\n",
    "                most[adjacent] = [0, 1];\n",
    "            if adjacent not in visited:\n",
    "                visited.add(adjacent)\n",
    "                if adjacent in graph:\n",
    "                    queue.append(adjacent)\n",
    "                \n",
    "    # print(most)\n",
    "    #SORT MOST EM [0] e depois em [1]\n",
    "    \n",
    "    def s(t):\n",
    "        v = t[1]\n",
    "        return -v[0], -v[1]\n",
    "\n",
    "    # sorted(d.items(), key=lambda (y,x): (-x[0], -x[1]))\n",
    "    return sorted(most.items(), key=s)\n",
    "    \n",
    "    "
   ]
  },
  {
   "cell_type": "code",
   "execution_count": 8,
   "metadata": {
    "collapsed": false
   },
   "outputs": [],
   "source": [
    "file_name = 'real1'\n",
    "mt = np.genfromtxt('networks/' + file_name + '.csv',delimiter=',').astype(np.int32)"
   ]
  },
  {
   "cell_type": "code",
   "execution_count": 9,
   "metadata": {
    "collapsed": false
   },
   "outputs": [],
   "source": [
    "network = {}\n",
    "for row in mt:\n",
    "    source = row[0]\n",
    "    target = row[1]\n",
    "    if source not in network:\n",
    "        network[source] = set()\n",
    "    network[source].add(target)\n",
    "        \n",
    "# print(graph)        "
   ]
  },
  {
   "cell_type": "code",
   "execution_count": 10,
   "metadata": {
    "collapsed": false
   },
   "outputs": [
    {
     "name": "stdout",
     "output_type": "stream",
     "text": [
      "965796\n"
     ]
    }
   ],
   "source": [
    "print(len(network))"
   ]
  },
  {
   "cell_type": "code",
   "execution_count": 21,
   "metadata": {
    "collapsed": false
   },
   "outputs": [
    {
     "name": "stdout",
     "output_type": "stream",
     "text": [
      "[1694602,\n",
      " 1694604,\n",
      " 1694605,\n",
      " 1694606,\n",
      " 1694607,\n",
      " 1694608,\n",
      " 1694610,\n",
      " 1694612,\n",
      " 1694613,\n",
      " 1694614]\n"
     ]
    }
   ],
   "source": [
    "from pprint import pprint\n",
    "pprint(list(network.keys())[-10:])"
   ]
  },
  {
   "cell_type": "code",
   "execution_count": 11,
   "metadata": {
    "collapsed": false,
    "scrolled": true
   },
   "outputs": [],
   "source": [
    "result = BFS(network, 0)\n",
    "# print(len(result))\n",
    "# print(result[:30])"
   ]
  },
  {
   "cell_type": "code",
   "execution_count": 22,
   "metadata": {
    "collapsed": false
   },
   "outputs": [
    {
     "name": "stdout",
     "output_type": "stream",
     "text": [
      "1694616\n",
      "[(1694543, [0, 1]), (1694545, [0, 1]), (1694551, [0, 1]), (1694552, [0, 1]), (1694555, [0, 1]), (1694557, [0, 1]), (1694558, [0, 1]), (1694560, [0, 1]), (1694562, [0, 1]), (1694565, [0, 1]), (1694566, [0, 1]), (1694567, [0, 1]), (1694568, [0, 1]), (1694569, [0, 1]), (1694571, [0, 1]), (1694573, [0, 1]), (1694574, [0, 1]), (1694575, [0, 1]), (1694576, [0, 1]), (1694577, [0, 1]), (1694579, [0, 1]), (1694581, [0, 1]), (1694586, [0, 1]), (1694589, [0, 1]), (1694591, [0, 1]), (1694593, [0, 1]), (1694594, [0, 1]), (1694603, [0, 1]), (1694609, [0, 1]), (1694611, [0, 1])]\n"
     ]
    }
   ],
   "source": [
    "print(len(result))\n",
    "print(result[-30:])"
   ]
  },
  {
   "cell_type": "code",
   "execution_count": 87,
   "metadata": {
    "collapsed": true
   },
   "outputs": [],
   "source": [
    "graph = { 'A': ['B', 'C'],\n",
    "          'B': ['A', 'C'],\n",
    "          'C': ['B', 'D', 'E' ,'F'],\n",
    "          'D': ['E'],\n",
    "          'E': ['C'],\n",
    "          'F': ['B', 'D'],\n",
    "          'G': ['H'],\n",
    "          'H': ['G']}"
   ]
  },
  {
   "cell_type": "code",
   "execution_count": 16,
   "metadata": {
    "collapsed": true
   },
   "outputs": [],
   "source": [
    "def BFS(graph, start):\n",
    "    queue = []\n",
    "    visited = set()\n",
    "    queue.append(start)\n",
    "    while queue:\n",
    "        node = queue.pop(0)\n",
    "        visited.add(node)\n",
    "        for adjacent in graph[node]:\n",
    "            if adjacent not in visited:\n",
    "                queue.append(adjacent)\n",
    "                visited.add(adjacent)\n",
    "                \n",
    "    print(visited)\n",
    "    "
   ]
  },
  {
   "cell_type": "code",
   "execution_count": 102,
   "metadata": {
    "collapsed": false
   },
   "outputs": [
    {
     "data": {
      "text/plain": [
       "[('b', [4, 5]), ('a', [3, 2])]"
      ]
     },
     "execution_count": 102,
     "metadata": {},
     "output_type": "execute_result"
    }
   ],
   "source": [
    "def s(t):\n",
    "    v = t[1]\n",
    "    return -v[0], -v[1]\n",
    "\n",
    "# sorted(d.items(), key=lambda (y,x): (-x[0], -x[1]))\n",
    "sorted(d.items(), key=s)"
   ]
  },
  {
   "cell_type": "code",
   "execution_count": null,
   "metadata": {
    "collapsed": true
   },
   "outputs": [],
   "source": [
    "graph = { 'A': ['B', 'C'],\n",
    "          'B': ['A', 'C'],\n",
    "          'C': ['B', 'D', 'E' ,'F'],\n",
    "          'D': ['E'],\n",
    "          'E': ['C'],\n",
    "          'F': ['B', 'D'] }\n",
    "\n",
    "def BFS(graph, start, end):\n",
    "    parent = {}\n",
    "    queue = []\n",
    "    queue.append(start)\n",
    "    while queue:\n",
    "        node = queue.pop(0)\n",
    "        if node == end:\n",
    "            return backtrace(parent, start, end)\n",
    "        for adjacent in graph.get(node, []):\n",
    "            parent[adjacent] = node \n",
    "            queue.append(adjacent)\n",
    "\n",
    "def backtrace(parent, start, end):\n",
    "    path = [end]\n",
    "    while path[-1] != start:\n",
    "        path.append(parent[path[-1]])\n",
    "    path.reverse()\n",
    "    return path\n",
    "\n",
    "print (BFS(graph, 'A', 'E'))"
   ]
  },
  {
   "cell_type": "code",
   "execution_count": null,
   "metadata": {
    "collapsed": true
   },
   "outputs": [],
   "source": [
    "BFS(G,s)\n",
    "1.  for each vertex u ∈ G.V - {s}\n",
    "2.     u.color == WHITE\n",
    "3.     u.d = INF\n",
    "4.     u.pi = NIL\n",
    "5.  s.color = GRAY\n",
    "6.  s.d = 0\n",
    "7.  s.pi = NIL\n",
    "8.  Q = ∅\n",
    "9.  ENQUEUE(Q,s)\n",
    "10. while Q ≠ ∅\n",
    "11.    u = DEQUEUE(Q)\n",
    "12.    for each v ∈ G.Adj[u]\n",
    "13.       if v.color == WHITE\n",
    "14.          v.color = GRAY\n",
    "15.          v.d = u.d + 1\n",
    "16.          v.pi = u\n",
    "17.          ENQUEUE(Q,v)\n",
    "18.    u.color = BLACK"
   ]
  },
  {
   "cell_type": "code",
   "execution_count": null,
   "metadata": {
    "collapsed": true
   },
   "outputs": [],
   "source": [
    "# G que tem a propriedade V, vértices\n",
    "def BFS(G, s):\n",
    "    for each vertex in G[V] - [s]:\n",
    "        "
   ]
  },
  {
   "cell_type": "code",
   "execution_count": null,
   "metadata": {
    "collapsed": true
   },
   "outputs": [],
   "source": [
    "def bfs(graph, root):\n",
    "    S = set()\n",
    "    Q = list()\n",
    "    \n",
    "    S.add(root)\n",
    "    Q.append(root)\n",
    "    \n",
    "    while len(Q) is not 0:\n",
    "        current = Q.pop()\n",
    "        if current "
   ]
  }
 ],
 "metadata": {
  "anaconda-cloud": {},
  "kernelspec": {
   "display_name": "Python [conda env:udacity]",
   "language": "python",
   "name": "conda-env-udacity-py"
  },
  "language_info": {
   "codemirror_mode": {
    "name": "ipython",
    "version": 3
   },
   "file_extension": ".py",
   "mimetype": "text/x-python",
   "name": "python",
   "nbconvert_exporter": "python",
   "pygments_lexer": "ipython3",
   "version": "3.5.2"
  }
 },
 "nbformat": 4,
 "nbformat_minor": 1
}
